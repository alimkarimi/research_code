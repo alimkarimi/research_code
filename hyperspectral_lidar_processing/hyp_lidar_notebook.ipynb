{
 "cells": [
  {
   "cell_type": "code",
   "execution_count": 1,
   "id": "16f81503",
   "metadata": {},
   "outputs": [],
   "source": [
    "import os\n",
    "from osgeo import gdal\n",
    "from matplotlib import pyplot as plt\n",
    "from mpl_toolkits.mplot3d import Axes3D\n",
    "#from hyperspectral_plot_extraction import visualize_lidar\n",
    "\n",
    "\n",
    "import spectral\n",
    "import spectral.io.envi as envi\n",
    "from spectral import open_image\n",
    "\n",
    "import laspy\n",
    "from laspy.file import File\n",
    "import numpy as np\n",
    "\n",
    "import rasterio"
   ]
  },
  {
   "cell_type": "code",
   "execution_count": 27,
   "id": "6caba37f",
   "metadata": {},
   "outputs": [
    {
     "name": "stdout",
     "output_type": "stream",
     "text": [
      "file opened\n",
      "getting basic info...\n",
      "shape of raster: 136 2916 7881\n",
      "PROJCS[\"unnamed\",\n",
      "    GEOGCS[\"NAD83\",\n",
      "        DATUM[\"North_American_Datum_1983\",\n",
      "            SPHEROID[\"GRS 1980\",6378137,298.257222101,\n",
      "                AUTHORITY[\"EPSG\",\"7019\"]],\n",
      "            AUTHORITY[\"EPSG\",\"6269\"]],\n",
      "        PRIMEM[\"Greenwich\",0,\n",
      "            AUTHORITY[\"EPSG\",\"8901\"]],\n",
      "        UNIT[\"degree\",0.0174532925199433,\n",
      "            AUTHORITY[\"EPSG\",\"9122\"]],\n",
      "        AUTHORITY[\"EPSG\",\"4269\"]],\n",
      "    PROJECTION[\"Transverse_Mercator\"],\n",
      "    PARAMETER[\"latitude_of_origin\",0],\n",
      "    PARAMETER[\"central_meridian\",-87],\n",
      "    PARAMETER[\"scale_factor\",0.9996],\n",
      "    PARAMETER[\"false_easting\",500000],\n",
      "    PARAMETER[\"false_northing\",0],\n",
      "    UNIT[\"Meter\",1],\n",
      "    AXIS[\"Easting\",EAST],\n",
      "    AXIS[\"Northing\",NORTH]]\n",
      "<class 'osgeo.osr.SpatialReference'>\n",
      "max value of band: 6435.0\n",
      "min value of band: 0.0\n",
      "max value of band: 6892.0\n",
      "min value of band: 0.0\n",
      "max value of band: 6964.0\n",
      "min value of band: 0.0\n",
      "max value of band: 6397.0\n",
      "min value of band: 0.0\n",
      "max value of band: 6058.0\n",
      "min value of band: 0.0\n",
      "max value of band: 6632.0\n",
      "min value of band: 0.0\n",
      "max value of band: 7838.0\n",
      "min value of band: 0.0\n",
      "max value of band: 9119.0\n",
      "min value of band: 0.0\n",
      "max value of band: 9355.0\n",
      "min value of band: 0.0\n",
      "max value of band: 9176.0\n",
      "min value of band: 0.0\n",
      "max value of band: 8759.0\n",
      "min value of band: 0.0\n",
      "max value of band: 8721.0\n",
      "min value of band: 0.0\n",
      "max value of band: 7794.0\n",
      "min value of band: 0.0\n",
      "max value of band: 7663.0\n",
      "min value of band: 0.0\n"
     ]
    }
   ],
   "source": [
    "hyp_path_local = '/Users/alim/Documents/prototyping/research_lab/hyperspectral_data/2021_field72/20210727_f72e_india_44m/vnir/elm_mosaic/'\n",
    "hyp_file_local = hyp_path_local + 'seam_mosaic'\n",
    "\n",
    "\n",
    "data = gdal.Open(hyp_file_local)\n",
    "print('file opened')\n",
    "x = data.RasterXSize # width\n",
    "y = data.RasterYSize # height\n",
    "dim = data.RasterCount\n",
    "print('getting basic info...')\n",
    "print('shape of raster:', dim, y, x)\n",
    "\n",
    "band_index = 0  # Change this to the index of the band you want to analyze\n",
    "\n",
    "# Read the specific band\n",
    "img = np.empty([14, y, x])\n",
    "\n",
    "# get projection of hyperspectral data:\n",
    "spatialRef = data.GetSpatialRef()\n",
    "#print((spatialRef.SetProjection(4326)))\n",
    "print(spatialRef)\n",
    "print(type(spatialRef))\n",
    "r = 100\n",
    "g = 80\n",
    "b = 40\n",
    "for n, i in enumerate([10, 20, 30, 40, 50, 60, 70, 80, 90, 100, 110, 120, 130, 135]): # update range to dim to loop through entire raster\n",
    "    band = data.GetRasterBand(i)  # Band indexing is 1-based in GDAL\n",
    "    #print(band.GetMinimum()) # this implies that min/max is already in metadata\n",
    "    #print(band.GetMaximum()) # this implies that min/max is already in metadata\n",
    "    #print(band.ComputeRasterMinMax())\n",
    "    band_data = band.ReadAsArray()\n",
    "    img[n,:,:] = band_data\n",
    "    print('max value of band:', band_data.max())\n",
    "    print('min value of band:', band_data.min())\n",
    "\n"
   ]
  },
  {
   "cell_type": "code",
   "execution_count": 28,
   "id": "c270a044",
   "metadata": {},
   "outputs": [
    {
     "name": "stdout",
     "output_type": "stream",
     "text": [
      "9355.0 0.0\n",
      "255 0\n"
     ]
    }
   ],
   "source": [
    "\n",
    "\n",
    "print(img.max(), img.min())\n",
    "img = np.uint8(img)\n",
    "print(img.max(), img.min())\n",
    "\n",
    "\n",
    "# Display pixel values\n",
    "# plt.imshow(img)\n",
    "# plt.colorbar(label='Pixel Value')\n",
    "# plt.title('Pixel Values in Band {}'.format(band_index + 1))\n",
    "# plt.xlabel('Column')\n",
    "# plt.ylabel('Row')\n",
    "# plt.savefig('visual_hyperspectral.jpg')"
   ]
  },
  {
   "cell_type": "code",
   "execution_count": 34,
   "id": "670f7c30",
   "metadata": {},
   "outputs": [
    {
     "data": {
      "image/png": "[encoded data removed]",
      "text/plain": [
       "<Figure size 640x480 with 16 Axes>"
      ]
     },
     "metadata": {},
     "output_type": "display_data"
    }
   ],
   "source": [
    "img_flat = img.flatten()\n",
    "fig, ax = plt.subplots(4,4)\n",
    "\n",
    "for i in range(14):\n",
    "    ax[i %4, i // 4].hist( img[i, : , :].flatten())"
   ]
  }
 ],
 "metadata": {
  "kernelspec": {
   "display_name": "Python 3.9.18 ('msresearch_new_backup')",
   "language": "python",
   "name": "python3"
  },
  "language_info": {
   "codemirror_mode": {
    "name": "ipython",
    "version": 3
   },
   "file_extension": ".py",
   "mimetype": "text/x-python",
   "name": "python",
   "nbconvert_exporter": "python",
   "pygments_lexer": "ipython3",
   "version": "3.9.18"
  },
  "vscode": {
   "interpreter": {
    "hash": "bbdbd6871554046f25a8b7dd0a4c7107814bbdbc33767faa7bde5d5b295067fd"
   }
  }
 },
 "nbformat": 4,
 "nbformat_minor": 5
}

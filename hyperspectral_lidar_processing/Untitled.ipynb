{
 "cells": [
  {
   "cell_type": "code",
   "execution_count": 1,
   "id": "16f81503",
   "metadata": {},
   "outputs": [],
   "source": [
    "import os\n",
    "from osgeo import gdal\n",
    "from matplotlib import pyplot as plt\n",
    "from mpl_toolkits.mplot3d import Axes3D\n",
    "from hyperspectral_plot_extraction import visualize_lidar\n",
    "\n",
    "\n",
    "import spectral\n",
    "import spectral.io.envi as envi\n",
    "from spectral import open_image\n",
    "\n",
    "import laspy\n",
    "from laspy.file import File\n",
    "import numpy as np\n",
    "\n",
    "import rasterio"
   ]
  },
  {
   "cell_type": "code",
   "execution_count": null,
   "id": "6caba37f",
   "metadata": {},
   "outputs": [],
   "source": [
    "visualize_lidar()"
   ]
  }
 ],
 "metadata": {
  "kernelspec": {
   "display_name": "Python 3.9.18 ('msresearch_new_backup')",
   "language": "python",
   "name": "python3"
  },
  "language_info": {
   "codemirror_mode": {
    "name": "ipython",
    "version": 3
   },
   "file_extension": ".py",
   "mimetype": "text/x-python",
   "name": "python",
   "nbconvert_exporter": "python",
   "pygments_lexer": "ipython3",
   "version": "3.9.18"
  },
  "vscode": {
   "interpreter": {
    "hash": "bbdbd6871554046f25a8b7dd0a4c7107814bbdbc33767faa7bde5d5b295067fd"
   }
  }
 },
 "nbformat": 4,
 "nbformat_minor": 5
}
